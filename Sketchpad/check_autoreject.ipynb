{
 "cells": [
  {
   "cell_type": "code",
   "execution_count": 1,
   "metadata": {},
   "outputs": [],
   "source": [
    "import os\n",
    "\n",
    "import mne\n",
    "import autoreject as ar\n",
    "import pandas as pd\n",
    "from pathlib import Path\n",
    "\n",
    "from vr2f.staticinfo import PATHS, CONSTANTS"
   ]
  },
  {
   "cell_type": "code",
   "execution_count": 5,
   "metadata": {},
   "outputs": [
    {
     "name": "stdout",
     "output_type": "stream",
     "text": [
      "VR2FEM_S01: False\n",
      "VR2FEM_S02: False\n",
      "VR2FEM_S03: False\n",
      "VR2FEM_S04: False\n",
      "VR2FEM_S05: False\n",
      "VR2FEM_S06: False\n",
      "VR2FEM_S07: False\n",
      "VR2FEM_S08: False\n",
      "VR2FEM_S10: False\n",
      "VR2FEM_S11: False\n",
      "VR2FEM_S12: False\n",
      "VR2FEM_S13: False\n",
      "VR2FEM_S14: False\n",
      "VR2FEM_S15: False\n",
      "VR2FEM_S16: False\n",
      "VR2FEM_S17: False\n",
      "VR2FEM_S18: False\n",
      "VR2FEM_S19: True\n",
      "VR2FEM_S20: False\n",
      "VR2FEM_S21: False\n",
      "VR2FEM_S22: False\n",
      "VR2FEM_S23: False\n",
      "VR2FEM_S24: False\n",
      "VR2FEM_S25: True\n",
      "VR2FEM_S26: False\n",
      "VR2FEM_S27: False\n",
      "VR2FEM_S28: False\n",
      "VR2FEM_S29: False\n",
      "VR2FEM_S30: False\n",
      "VR2FEM_S31: False\n",
      "VR2FEM_S32: False\n",
      "VR2FEM_S33: False\n",
      "VR2FEM_S34: False\n"
     ]
    }
   ],
   "source": [
    "\n",
    "paths = PATHS()\n",
    "constants = CONSTANTS()\n",
    "\n",
    "fpath = Path(paths.DATA_03_AR)\n",
    "fpath_rejlogs = Path(fpath, \"rejectlogs\")\n",
    "fpath_rejdata = Path(fpath, \"rejecteddata\")\n",
    "files = sorted(fpath.glob(\"*-ar.fif\"))\n",
    "files_rejlogs = sorted(fpath_rejlogs.glob(\"*.csv\"))\n",
    "\n",
    "for rejlog, data in zip(files_rejlogs, files, strict=True):\n",
    "  rej_log_df = pd.read_csv(rejlog)\n",
    "  is_rejected = rej_log_df.badEpoch.sum() > 720 * constants.AR_PROP_EPOS_TO_REJECT_SUB\n",
    "  print(f\"{rejlog.stem.split('-')[0]}: {is_rejected}\")\n",
    "  if (is_rejected):\n",
    "    # move the corresponding fif file to rejected data folder\n",
    "    data.rename(Path(fpath_rejdata, data.name))\n",
    "\n",
    "\n"
   ]
  },
  {
   "cell_type": "code",
   "execution_count": 3,
   "metadata": {},
   "outputs": [],
   "source": [
    "ff = files[0]\n"
   ]
  },
  {
   "cell_type": "code",
   "execution_count": 4,
   "metadata": {},
   "outputs": [
    {
     "data": {
      "text/plain": [
       "'VR2FEM_S18-postICA-ar.fif'"
      ]
     },
     "execution_count": 4,
     "metadata": {},
     "output_type": "execute_result"
    }
   ],
   "source": [
    "ff.name"
   ]
  },
  {
   "cell_type": "code",
   "execution_count": null,
   "metadata": {},
   "outputs": [],
   "source": []
  }
 ],
 "metadata": {
  "kernelspec": {
   "display_name": "vr2fem",
   "language": "python",
   "name": "python3"
  },
  "language_info": {
   "codemirror_mode": {
    "name": "ipython",
    "version": 3
   },
   "file_extension": ".py",
   "mimetype": "text/x-python",
   "name": "python",
   "nbconvert_exporter": "python",
   "pygments_lexer": "ipython3",
   "version": "3.1.undefined"
  }
 },
 "nbformat": 4,
 "nbformat_minor": 2
}

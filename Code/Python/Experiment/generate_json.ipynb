{
 "cells": [
  {
   "cell_type": "code",
   "execution_count": 98,
   "metadata": {},
   "outputs": [
    {
     "data": {
      "text/plain": [
       "'\\nCreates session JSON according to: \\nhttps://www.notion.so/vr-at-mpi/Experiment-Config-5df777d32e6943cabe28a6022ac72435 \\n'"
      ]
     },
     "execution_count": 98,
     "metadata": {},
     "output_type": "execute_result"
    }
   ],
   "source": [
    "\n",
    "\"\"\"\n",
    "Creates session JSON according to: \n",
    "https://www.notion.so/vr-at-mpi/Experiment-Config-5df777d32e6943cabe28a6022ac72435 \n",
    "\"\"\"\n"
   ]
  },
  {
   "cell_type": "code",
   "execution_count": 99,
   "metadata": {},
   "outputs": [],
   "source": [
    "# Imports and definitions:\n",
    "import os\n",
    "import json\n",
    "import pandas as pd\n",
    "import numpy as np\n",
    "import random\n",
    "import itertools\n",
    "\n",
    "\n",
    "def create_trialsSeqVals(trialSettings, values, nTrials,\n",
    "                         random_state=np.random.randint(1e5)):\n",
    "    \"\"\"Creates a list of dicts that fits into the `trialSequenceValues` value \n",
    "       part of the VRstereofem task generator.  \n",
    "\n",
    "    Args:\n",
    "        trialSettings (list of strings): defining the relevant settings (must \\\n",
    "                                         start with \"block_num\")\n",
    "        values (dict): maps all possible values to each setting\n",
    "        nTrials (int): number of trials in whole experiment\n",
    "        random_state (int, optional): For replicatbility you could set a \\\n",
    "                                      random state. Do not do this for real \\\n",
    "                                      experiment.\\\n",
    "                                      Defaults to np.random.randint(1e5).\n",
    "\n",
    "    Returns:\n",
    "        list: list of dicts (key: \"values\", value: \"value for each setting\")\n",
    "    \"\"\"\n",
    "\n",
    "    # set up DF:\n",
    "    trials_df = pd.DataFrame(columns=trialSettings)\n",
    "    \n",
    "    # we make a random vector with reponse orders:\n",
    "    assert (nTrials % len(values[\"order\"]) == 0), 'nTrials must be multiple of  \\\n",
    "                                                   the emotion orders to get a \\\n",
    "                                                   balanced design.'\n",
    "    order_vec = values[\"order\"] * int(nTrials / len(values[\"order\"]))\n",
    "    random.shuffle(order_vec)\n",
    "\n",
    "    # check how many repetitions of each given combination we have:\n",
    "    nTrialsPerBlock = int(nTrials / len(values['block_num']))\n",
    "    nCombos = len(values['stereo']) * len(values['avatar']) * len(values['emo'])\n",
    "    assert (nTrialsPerBlock % nCombos == 0), 'Cannot produce balanced blocks.'\n",
    "    nReps = int(nTrialsPerBlock / nCombos)\n",
    "\n",
    "\n",
    "    for bn in values[\"block_num\"]:\n",
    "        for st in values[\"stereo\"]:\n",
    "            for av in values[\"avatar\"]:\n",
    "                for emo in values[\"emo\"]:\n",
    "                        for rep in range(nReps):\n",
    "                            trials_df = trials_df.append({\n",
    "                                            'block_num': bn,\n",
    "                                            'stereo': st, \n",
    "                                            'avatar': av, \n",
    "                                            'emo': emo, \n",
    "                                            'order': order_vec.pop()}, \n",
    "                                            ignore_index=True)\n",
    "\n",
    "    # shuffle within blocks:\n",
    "    trialSeqVals_df = trials_df.groupby(['block_num']).sample(frac=1, \n",
    "                                                              random_state=random_state)\n",
    "\n",
    "    trialSeqVals = []\n",
    "    for idx in trialSeqVals_df.index:\n",
    "        trialSeqVals.append({'values': [trialSeqVals_df.loc[idx, col] for col in trialSettings]})\n",
    "    \n",
    "    return trialSeqVals"
   ]
  },
  {
   "cell_type": "code",
   "execution_count": 100,
   "metadata": {},
   "outputs": [],
   "source": [
    "\n",
    "## Specify relevant values:\n",
    "\n",
    "fpath_out = './configFiles/'\n",
    "fname_out = \"experimentConfig_72trials.json\"\n",
    "\n",
    "participant = dict()\n",
    "\n",
    "participant = {\n",
    "\t'ID': \"test01\",\n",
    "\t'age': 32\n",
    "}\n",
    "\n",
    "experimenter = \"AN\"\n",
    "sessionNumber = 1\n",
    "\n",
    "nTrials = 72 # must be a multiple of 24\n",
    "nBlocks = 3 # this has to be nTrials / 24\n",
    "\n",
    "# This instruction will be shown before each block\n",
    "blockInstructionDef = \"Please rate which emotion was shown by the face. \\n \\\n",
    "\t\t\t\t\t Please always keep your eyes on the central target.\"\n",
    "\n",
    "# after which blocks do we want to have a break (probably after every)\n",
    "breaksAfterBlock = [i for i in range(1, nBlocks+1)]\n",
    "\n",
    "# Which emotions will be displayed:\n",
    "emotionNames = \"neutral,happy,angry,surprised\"\n",
    "\n",
    "\n",
    "# Define trial settings:\n",
    "\n",
    "# column names for the trial settings (must start with \"block_num\"!):\n",
    "trialSettings = [\"block_num\",\"stereo\",\"avatar\",\"emo\",\"order\"]\n",
    "\n",
    "# values:\n",
    "values = dict.fromkeys(trialSettings)\n",
    "# automatically generate block numbers:\n",
    "values[\"block_num\"] = [str(i) for i in range(1, nBlocks+1)]\n",
    "# 2 stereo vision conditions:\n",
    "values[\"stereo\"] = [\"0\", \"1\"]\n",
    "# 3 different avatars:\n",
    "values[\"avatar\"] = [\"1\", \"2\", \"3\"]\n",
    "# 4 emotions:\n",
    "values[\"emo\"] = [\"1\", \"2\", \"3\", \"4\"]\n",
    "# 4! (=24) different possibilities to order the 4 emotion buttons:\n",
    "values[\"order\"] = [''.join(map(str,s)) for s in itertools.permutations(range(1,len(values['emo'])+1), 4)]\n"
   ]
  },
  {
   "cell_type": "code",
   "execution_count": 101,
   "metadata": {},
   "outputs": [
    {
     "name": "stdout",
     "output_type": "stream",
     "text": [
      "72\n"
     ]
    }
   ],
   "source": [
    "\n",
    "# From above values, define the dictionnary that we will serialze into the JSON:\n",
    "\n",
    "ses_dict = dict()\n",
    "\n",
    "ses_dict = {\n",
    "\t\"experimenter\": experimenter,\n",
    "\t\"participantID\": participant['ID'],\n",
    "\t\"sessionNumber\": sessionNumber,\n",
    "\t\"participantInfo\":[\n",
    "\t\t{\"type\":\"string\",\"key\":\"Age\",\"value\":participant['age']}\n",
    "\t],\n",
    "\t\"sessionSettings\":[\n",
    "\t\t{\"type\":\"strings\",\"key\":\"emotionNames\",\"value\": emotionNames},\n",
    "\t],\n",
    "\t\"blockInstructions\":[\n",
    "\t\t{\"type\":\"string\",\"key\":\"1\",\"value\": blockInstructionDef}] * nBlocks,\n",
    "\t\"breakAfter\": breaksAfterBlock,\n",
    "\t\"trialSequenceKeys\":[\"block_num\",\"stereo\",\"avatar\",\"emo\",\"order\"],\n",
    "\t\"trialSequenceValues\": create_trialsSeqVals(trialSettings, values, nTrials)\n",
    "}"
   ]
  },
  {
   "cell_type": "code",
   "execution_count": 102,
   "metadata": {},
   "outputs": [
    {
     "name": "stdout",
     "output_type": "stream",
     "text": [
      "Writing experimentConfig_72trials.json to c:\\Users\\Felix\\Seafile\\Experiments\\ThesisAmmara\\Code\\Python\\Experiment\\configFiles.\n"
     ]
    }
   ],
   "source": [
    "#Write the info as JSON to disk:\n",
    "fpath = os.path.join(fpath_out, fname_out)\n",
    "\n",
    "if not os.path.exists(fpath_out):\n",
    "    os.makedirs(fpath_out)\n",
    "\n",
    "if not os.path.exists(fpath):\n",
    "    print(f\"Writing {fname_out} to {os.path.abspath(fpath_out)}.\")\n",
    "    with open(fpath, \"w\") as write_file:\n",
    "        json.dump(ses_dict, write_file, indent=4)\n",
    "else:\n",
    "    print(f'A config file with name {fname_out} exists already in' \\\n",
    "        f'{os.path.abspath(fpath_out)}. If you want to overwrite, delete the ' \\\n",
    "        'old file first and run this script again.')"
   ]
  }
 ],
 "metadata": {
  "interpreter": {
   "hash": "0baa0a0a0400e9b18706936bebddbd614bf0aac2656f0be2e4d900413fd344f7"
  },
  "kernelspec": {
   "display_name": "Python 3.8.8 64-bit ('mnedev_v23': conda)",
   "name": "python3"
  },
  "language_info": {
   "codemirror_mode": {
    "name": "ipython",
    "version": 3
   },
   "file_extension": ".py",
   "mimetype": "text/x-python",
   "name": "python",
   "nbconvert_exporter": "python",
   "pygments_lexer": "ipython3",
   "version": "3.8.8"
  },
  "orig_nbformat": 4
 },
 "nbformat": 4,
 "nbformat_minor": 2
}

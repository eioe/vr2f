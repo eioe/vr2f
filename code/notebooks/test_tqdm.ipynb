{
 "cells": [
  {
   "cell_type": "code",
   "execution_count": null,
   "metadata": {},
   "outputs": [],
   "source": [
    "from multiprocessing import Pool, freeze_support\n",
    "from tqdm import tqdm"
   ]
  },
  {
   "cell_type": "code",
   "execution_count": 2,
   "metadata": {},
   "outputs": [
    {
     "name": "stdout",
     "output_type": "stream",
     "text": [
      "\n",
      "          "
     ]
    },
    {
     "name": "stderr",
     "output_type": "stream",
     "text": [
      "/tmp/ipykernel_145557/1017643621.py:10: TqdmDeprecationWarning: This function will be removed in tqdm==5.0.0\n",
      "Please use `tqdm.notebook.tqdm` instead of `tqdm.tqdm_notebook`\n",
      "  for i in tqdm(range(5000), desc=text, position=n):\n",
      "/tmp/ipykernel_145557/1017643621.py:10: TqdmDeprecationWarning: This function will be removed in tqdm==5.0.0\n",
      "Please use `tqdm.notebook.tqdm` instead of `tqdm.tqdm_notebook`\n",
      "  for i in tqdm(range(5000), desc=text, position=n):\n",
      "/tmp/ipykernel_145557/1017643621.py:10: TqdmDeprecationWarning: This function will be removed in tqdm==5.0.0\n",
      "Please use `tqdm.notebook.tqdm` instead of `tqdm.tqdm_notebook`\n",
      "  for i in tqdm(range(5000), desc=text, position=n):\n",
      "/tmp/ipykernel_145557/1017643621.py:10: TqdmDeprecationWarning: This function will be removed in tqdm==5.0.0\n",
      "Please use `tqdm.notebook.tqdm` instead of `tqdm.tqdm_notebook`\n",
      "  for i in tqdm(range(5000), desc=text, position=n):\n",
      "/tmp/ipykernel_145557/1017643621.py:10: TqdmDeprecationWarning: This function will be removed in tqdm==5.0.0\n",
      "Please use `tqdm.notebook.tqdm` instead of `tqdm.tqdm_notebook`\n",
      "  for i in tqdm(range(5000), desc=text, position=n):\n",
      "/tmp/ipykernel_145557/1017643621.py:10: TqdmDeprecationWarning: This function will be removed in tqdm==5.0.0\n",
      "Please use `tqdm.notebook.tqdm` instead of `tqdm.tqdm_notebook`\n",
      "  for i in tqdm(range(5000), desc=text, position=n):\n",
      "/tmp/ipykernel_145557/1017643621.py:10: TqdmDeprecationWarning: This function will be removed in tqdm==5.0.0\n",
      "Please use `tqdm.notebook.tqdm` instead of `tqdm.tqdm_notebook`\n",
      "  for i in tqdm(range(5000), desc=text, position=n):\n",
      "/tmp/ipykernel_145557/1017643621.py:10: TqdmDeprecationWarning: This function will be removed in tqdm==5.0.0\n",
      "Please use `tqdm.notebook.tqdm` instead of `tqdm.tqdm_notebook`\n",
      "  for i in tqdm(range(5000), desc=text, position=n):\n",
      "/tmp/ipykernel_145557/1017643621.py:10: TqdmDeprecationWarning: This function will be removed in tqdm==5.0.0\n",
      "Please use `tqdm.notebook.tqdm` instead of `tqdm.tqdm_notebook`\n",
      "  for i in tqdm(range(5000), desc=text, position=n):\n",
      "/tmp/ipykernel_145557/1017643621.py:10: TqdmDeprecationWarning: This function will be removed in tqdm==5.0.0\n",
      "Please use `tqdm.notebook.tqdm` instead of `tqdm.tqdm_notebook`\n",
      "  for i in tqdm(range(5000), desc=text, position=n):\n"
     ]
    },
    {
     "data": {
      "application/vnd.jupyter.widget-view+json": {
       "model_id": "21a2bfeb77114939a437d58b9477a607",
       "version_major": 2,
       "version_minor": 0
      },
      "text/plain": [
       "progresser #9:   0%|          | 0/5000 [00:00<?, ?it/s]"
      ]
     },
     "metadata": {},
     "output_type": "display_data"
    },
    {
     "data": {
      "application/vnd.jupyter.widget-view+json": {
       "model_id": "f6b6aff9e1fe48b59478459b6583a574",
       "version_major": 2,
       "version_minor": 0
      },
      "text/plain": [
       "progresser #8:   0%|          | 0/5000 [00:00<?, ?it/s]"
      ]
     },
     "metadata": {},
     "output_type": "display_data"
    },
    {
     "data": {
      "application/vnd.jupyter.widget-view+json": {
       "model_id": "7eb718238ab746d6b850df537e8ebb81",
       "version_major": 2,
       "version_minor": 0
      },
      "text/plain": [
       "progresser #5:   0%|          | 0/5000 [00:00<?, ?it/s]"
      ]
     },
     "metadata": {},
     "output_type": "display_data"
    },
    {
     "data": {
      "application/vnd.jupyter.widget-view+json": {
       "model_id": "7e7bea11a26e41e4a9392bbb54de1f23",
       "version_major": 2,
       "version_minor": 0
      },
      "text/plain": [
       "progresser #4:   0%|          | 0/5000 [00:00<?, ?it/s]"
      ]
     },
     "metadata": {},
     "output_type": "display_data"
    },
    {
     "data": {
      "application/vnd.jupyter.widget-view+json": {
       "model_id": "12bf98e5ef8942f28ed402b2b5dc17ef",
       "version_major": 2,
       "version_minor": 0
      },
      "text/plain": [
       "progresser #7:   0%|          | 0/5000 [00:00<?, ?it/s]"
      ]
     },
     "metadata": {},
     "output_type": "display_data"
    },
    {
     "data": {
      "application/vnd.jupyter.widget-view+json": {
       "model_id": "c7d38ca91a5243a88f5af39cbe666dc1",
       "version_major": 2,
       "version_minor": 0
      },
      "text/plain": [
       "progresser #0:   0%|          | 0/5000 [00:00<?, ?it/s]"
      ]
     },
     "metadata": {},
     "output_type": "display_data"
    },
    {
     "data": {
      "application/vnd.jupyter.widget-view+json": {
       "model_id": "0dee959bbabb4e1fb467ed837064a5c0",
       "version_major": 2,
       "version_minor": 0
      },
      "text/plain": [
       "progresser #2:   0%|          | 0/5000 [00:00<?, ?it/s]"
      ]
     },
     "metadata": {},
     "output_type": "display_data"
    },
    {
     "data": {
      "application/vnd.jupyter.widget-view+json": {
       "model_id": "df3773a5d9164140ad523a51f86268cd",
       "version_major": 2,
       "version_minor": 0
      },
      "text/plain": [
       "progresser #1:   0%|          | 0/5000 [00:00<?, ?it/s]"
      ]
     },
     "metadata": {},
     "output_type": "display_data"
    },
    {
     "data": {
      "application/vnd.jupyter.widget-view+json": {
       "model_id": "416c2d67cd854e5fab04738f6b1b6213",
       "version_major": 2,
       "version_minor": 0
      },
      "text/plain": [
       "progresser #6:   0%|          | 0/5000 [00:00<?, ?it/s]"
      ]
     },
     "metadata": {},
     "output_type": "display_data"
    },
    {
     "data": {
      "application/vnd.jupyter.widget-view+json": {
       "model_id": "4b4af3d4be82417e9a8785fbbb747a7d",
       "version_major": 2,
       "version_minor": 0
      },
      "text/plain": [
       "progresser #3:   0%|          | 0/5000 [00:00<?, ?it/s]"
      ]
     },
     "metadata": {},
     "output_type": "display_data"
    }
   ],
   "source": [
    "from time import sleep\n",
    "from tqdm import tqdm_notebook as tqdm\n",
    "from multiprocessing import Pool, freeze_support\n",
    "\n",
    "def progresser(n):\n",
    "    # This line is the strange hack\n",
    "    print(' ', end='', flush=True)\n",
    "\n",
    "    text = \"progresser #{}\".format(n)\n",
    "    for i in tqdm(range(5000), desc=text, position=n):\n",
    "         sleep(0.001)\n",
    "        \n",
    "if __name__ == '__main__':\n",
    "    freeze_support()\n",
    "    L = list(range(10))\n",
    "    print()\n",
    "    Pool(10).map(progresser, L)"
   ]
  },
  {
   "cell_type": "code",
   "execution_count": null,
   "metadata": {},
   "outputs": [],
   "source": []
  }
 ],
 "metadata": {
  "kernelspec": {
   "display_name": "vr2fem",
   "language": "python",
   "name": "python3"
  },
  "language_info": {
   "codemirror_mode": {
    "name": "ipython",
    "version": 3
   },
   "file_extension": ".py",
   "mimetype": "text/x-python",
   "name": "python",
   "nbconvert_exporter": "python",
   "pygments_lexer": "ipython3",
   "version": "3.10.6"
  }
 },
 "nbformat": 4,
 "nbformat_minor": 2
}

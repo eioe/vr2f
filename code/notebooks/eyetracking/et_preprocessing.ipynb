{
 "cells": [
  {
   "cell_type": "markdown",
   "metadata": {},
   "source": [
    "# Eye tracking: preprocessing\n",
    "\n",
    "This script imports the raw eye tracking (ET) data from the `Subjects` folder\n",
    "and runs a few preprocessing steps on them:\n",
    "\n",
    "1. Transform the gaze vectors into spherical coordinates (`theta`: horizontal \n",
    "gaze angle, `phi`: vertical)  \n",
    "2. Calculate the time relative to the stimulus onset event.  \n",
    "3. Correct for the temporal offset between the actual eye movement and the time \n",
    "the eye tracker provides the accordinmg sample (using cross-correlation with the \n",
    "instantaneous EOG signal)\n",
    "4. Subtract the mean baseline in a window of `200 ms` before stimulus onset from\n",
    "each trial (separately for `theta` and `phi`).\n",
    "5. Optional (see parameter `blinks_interpolate` at the beginning of the notebook): identify blinks in the data and replace them via linear interpolation. \n",
    "6. Save the files as pandas data frames.  \n",
    "  \n",
    "⚠️ We only have ET data for a subset of the participants. "
   ]
  },
  {
   "cell_type": "code",
   "execution_count": 1,
   "metadata": {},
   "outputs": [],
   "source": [
    "%load_ext autoreload\n",
    "%autoreload 2\n",
    "\n",
    "import os\n",
    "from multiprocessing import Pool, freeze_support\n",
    "from pathlib import Path\n",
    "\n",
    "import numpy as np\n",
    "import pandas as pd\n",
    "from tqdm.auto import tqdm\n",
    "from vr2f.eyetracking import et_preprocessing, lag_calculator_et_vs_eog\n",
    "from vr2f.staticinfo import CONSTANTS, PATHS\n"
   ]
  },
  {
   "cell_type": "code",
   "execution_count": 2,
   "metadata": {},
   "outputs": [],
   "source": [
    "def run_preprocessing(sub_id):  # noqa: PLR0915\n",
    "    \"\"\"Run the ET preprocessing pipeline for a single subject.\"\"\"\n",
    "    # Set to True if you want to interpolate blinks\n",
    "    blinks_interpolate = True\n",
    "\n",
    "    paths = PATHS()\n",
    "    constants = CONSTANTS()\n",
    "\n",
    "    cond_dict = {\n",
    "        \"viewcond\": {1: \"mono\", 2: \"stereo\"},\n",
    "        \"emotion\": {1: \"neutral\", 2: \"happy\", 3: \"angry\", 4: \"surprised\"},\n",
    "        \"avatar_id\": {1: \"Woman_01\", 2: \"Woman_04\", 3: \"Woman_08\"},\n",
    "    }\n",
    "\n",
    "    print(f\"Processing {sub_id}...\\n\")\n",
    "\n",
    "    markerlog_stimonsets = et_preprocessing.get_stimonset_df(sub_id)\n",
    "    if markerlog_stimonsets is None:\n",
    "        print(f\"    Skipping {sub_id}.\")\n",
    "        return 0\n",
    "    markerlog_stimonsets_np = markerlog_stimonsets[\"timestamp_corrected\"].to_numpy()\n",
    "\n",
    "    et_files, path_et_files = et_preprocessing.get_et_rawfiles(sub_id)\n",
    "    if et_files is None:\n",
    "        print(f\"    Skipping {sub_id}.\")\n",
    "        return 0\n",
    "\n",
    "    df_all = pd.DataFrame()\n",
    "    for f in tqdm(et_files):\n",
    "        t_num = int(f.split(\".csv\")[0][-3:])\n",
    "        fname = Path(path_et_files, f)\n",
    "        df = pd.read_csv(fname, sep=\",\")\n",
    "\n",
    "        df = df.reset_index(drop=False)\n",
    "\n",
    "        # skip this file if it is empty apart from the header\n",
    "        if df.shape[0] == 0:\n",
    "            continue\n",
    "        # add 3 columns theta, phi, r to df\n",
    "        df[[\"theta\", \"phi\", \"r\"]] = et_preprocessing.cart2sph_custom(\n",
    "            df[\"direction_x_local\"], df[\"direction_y_local\"], df[\"direction_z_local\"]\n",
    "        )\n",
    "\n",
    "        # calculate relative time to stimulus onset:\n",
    "        times = df[\"time\"] - markerlog_stimonsets_np[t_num - 1]\n",
    "        # find the index of the stimulus onset\n",
    "        idx_stimonset = np.argmin(np.abs(times))\n",
    "\n",
    "        df[\"times\"] = (df[\"timestamp_lsl\"] - df.loc[idx_stimonset, \"timestamp_lsl\"])\n",
    "\n",
    "        # crop to [-0.5; 1.5]s window; assuming a stable srate of 120Hz\n",
    "        srate = 120\n",
    "        df = df.iloc[np.max([idx_stimonset - int(0.5 * srate), 0]) : idx_stimonset + int(1.5 * srate) + 1, :]\n",
    "\n",
    "        # add info about the trial\n",
    "        df[\"trial_num\"] = t_num\n",
    "        df[\"marker\"] = markerlog_stimonsets[\"annotation\"].iloc[t_num - 1]\n",
    "        # split marker on whitespace and keep only last part\n",
    "        df[\"marker\"] = df[\"marker\"].str.split().str[-1]\n",
    "        # marker is a 3digit int; split it into its single digits and put each digit into a separate column\n",
    "        df[\"viewcond\"] = df[\"marker\"].str[0].astype(int)\n",
    "        df[\"avatar_id\"] = df[\"marker\"].str[1].astype(int)\n",
    "        df[\"emotion\"] = df[\"marker\"].str[2].astype(int)\n",
    "        df[\"emotion\"] = df[\"emotion\"].map(cond_dict[\"emotion\"])\n",
    "        df[\"avatar_id\"] = df[\"avatar_id\"].map(cond_dict[\"avatar_id\"])\n",
    "        df[\"viewcond\"] = df[\"viewcond\"].map(cond_dict[\"viewcond\"])\n",
    "\n",
    "        df_all = pd.concat([df_all, df], ignore_index=True)\n",
    "\n",
    "    if df.shape[0] == 0:\n",
    "        print(f\"    Skipping {sub_id} because there is no eye tracking data.\")\n",
    "        return 0\n",
    "\n",
    "    # adaptively correct for the lag between ET and EOG\n",
    "    lag_calculator = lag_calculator_et_vs_eog.LagCalculatorEyetrackingVsEog()\n",
    "    lag = lag_calculator.get_et_vs_eog_lag(sub_id, df_all, plot_it=True, write_csv=False)\n",
    "    df_all[\"times\"] = df_all[\"times\"] - lag\n",
    "    print(f\"    Correcting for lag of {lag}ms for {sub_id}.\")\n",
    "\n",
    "    if blinks_interpolate:\n",
    "        df_all = df_all.groupby([\"trial_num\"]).apply(et_preprocessing.interpolate_blinks)\n",
    "\n",
    "    # calculate a baseline for each trial\n",
    "    baselines = (\n",
    "        df_all.query(\"times < 0 & times > -0.2\").loc[:, [\"theta\", \"phi\", \"trial_num\"]].groupby([\"trial_num\"]).mean()\n",
    "    )\n",
    "\n",
    "    # subtract the baseline from each trial\n",
    "    df_all = df_all.merge(baselines, on=\"trial_num\", suffixes=(\"\", \"_baseline\"))\n",
    "    df_all[\"theta\"] = df_all[\"theta\"] - df_all[\"theta_baseline\"]\n",
    "    df_all[\"phi\"] = df_all[\"phi\"] - df_all[\"phi_baseline\"]\n",
    "\n",
    "    df_all = (df_all.groupby([\"trial_num\"])\n",
    "                .apply(et_preprocessing.set_to_fixed_sample_length,\n",
    "                       sfreq=constants.SFREQ_ET, dur_pre=0.4, dur_post=1.1))\n",
    "\n",
    "    # save to csv\n",
    "    path_out = Path(paths.DATA_ET_PREPROC)\n",
    "    if blinks_interpolate:\n",
    "        fname = Path(path_out, f\"{sub_id}-ET-withoutblinks-preproc.csv\")\n",
    "    else:\n",
    "        fname = Path(path_out, f\"{sub_id}-ET-withblinks-preproc.csv\")\n",
    "    df_all.to_csv(fname, sep=\",\", index=False)\n",
    "\n",
    "    n_trials = df_all[\"trial_num\"].nunique()\n",
    "    print(f\"    {sub_id}: {n_trials} trials\")\n",
    "    return 1"
   ]
  },
  {
   "cell_type": "code",
   "execution_count": 5,
   "metadata": {},
   "outputs": [
    {
     "name": "stdout",
     "output_type": "stream",
     "text": [
      "Processing VR2FEM_S01...\n",
      "Processing VR2FEM_S02...\n",
      "\n",
      "Processing VR2FEM_S03...\n",
      "Processing VR2FEM_S04...\n",
      "Processing VR2FEM_S05...\n",
      "Processing VR2FEM_S08...\n",
      "Processing VR2FEM_S10...\n",
      "Processing VR2FEM_S12...\n",
      "\n",
      "Processing VR2FEM_S14...\n",
      "Processing VR2FEM_S15...\n",
      "\n",
      "Processing VR2FEM_S13...\n",
      "Processing VR2FEM_S07...\n",
      "Processing VR2FEM_S06...\n",
      "Processing VR2FEM_S11...\n",
      "\n",
      "Processing VR2FEM_S21...\n",
      "\n",
      "Processing VR2FEM_S17...\n",
      "Processing VR2FEM_S23...\n",
      "Processing VR2FEM_S16...\n",
      "\n",
      "\n",
      "\n",
      "Processing VR2FEM_S18...\n",
      "Processing VR2FEM_S19...\n",
      "Processing VR2FEM_S20...\n",
      "\n",
      "\n",
      "Processing VR2FEM_S24...\n",
      "Processing VR2FEM_S26...\n",
      "\n",
      "Processing VR2FEM_S27...\n",
      "Processing VR2FEM_S25...\n",
      "\n",
      "Processing VR2FEM_S22...\n",
      "\n",
      "\n",
      "Processing VR2FEM_S29...\n",
      "Processing VR2FEM_S30...\n",
      "Processing VR2FEM_S33...\n",
      "\n",
      "Processing VR2FEM_S31...\n",
      "\n",
      "\n",
      "Processing VR2FEM_S32...\n",
      "Processing VR2FEM_S28...\n",
      "\n",
      "Processing VR2FEM_S34...\n",
      "\n",
      "\n",
      "\n",
      "\n",
      "\n",
      "\n",
      "\n",
      "\n",
      "\n",
      "\n",
      "\n",
      "\n",
      "\n",
      "\n",
      "\n",
      "    No markerlog for VR2FEM_S04\n",
      "    Skipping VR2FEM_S04.\n",
      "Skipping VR2FEM_S30 because there are no eye tracking files.\n",
      "    Skipping VR2FEM_S30.\n"
     ]
    },
    {
     "data": {
      "application/vnd.jupyter.widget-view+json": {
       "model_id": "6c144a75070a404296a3050c21e61680",
       "version_major": 2,
       "version_minor": 0
      },
      "text/plain": [
       "  0%|          | 0/744 [00:00<?, ?it/s]"
      ]
     },
     "metadata": {},
     "output_type": "display_data"
    },
    {
     "data": {
      "application/vnd.jupyter.widget-view+json": {
       "model_id": "407540eb087d443b962598903b8ed519",
       "version_major": 2,
       "version_minor": 0
      },
      "text/plain": [
       "  0%|          | 0/744 [00:00<?, ?it/s]"
      ]
     },
     "metadata": {},
     "output_type": "display_data"
    },
    {
     "data": {
      "application/vnd.jupyter.widget-view+json": {
       "model_id": "a4cf2f0db89045df93e64d5782ea7f3b",
       "version_major": 2,
       "version_minor": 0
      },
      "text/plain": [
       "  0%|          | 0/743 [00:00<?, ?it/s]"
      ]
     },
     "metadata": {},
     "output_type": "display_data"
    },
    {
     "data": {
      "application/vnd.jupyter.widget-view+json": {
       "model_id": "ae462bb450ad48b0b9e2cd64a39aa4cb",
       "version_major": 2,
       "version_minor": 0
      },
      "text/plain": [
       "  0%|          | 0/729 [00:00<?, ?it/s]"
      ]
     },
     "metadata": {},
     "output_type": "display_data"
    },
    {
     "data": {
      "application/vnd.jupyter.widget-view+json": {
       "model_id": "f802c6812a5348e6bdd22e4c07883c67",
       "version_major": 2,
       "version_minor": 0
      },
      "text/plain": [
       "  0%|          | 0/744 [00:00<?, ?it/s]"
      ]
     },
     "metadata": {},
     "output_type": "display_data"
    },
    {
     "data": {
      "application/vnd.jupyter.widget-view+json": {
       "model_id": "6057b45981dc4f17b37f2429667ba1b9",
       "version_major": 2,
       "version_minor": 0
      },
      "text/plain": [
       "  0%|          | 0/554 [00:00<?, ?it/s]"
      ]
     },
     "metadata": {},
     "output_type": "display_data"
    },
    {
     "data": {
      "application/vnd.jupyter.widget-view+json": {
       "model_id": "5241f71c869c4ab4949e7921922082b9",
       "version_major": 2,
       "version_minor": 0
      },
      "text/plain": [
       "  0%|          | 0/744 [00:00<?, ?it/s]"
      ]
     },
     "metadata": {},
     "output_type": "display_data"
    },
    {
     "data": {
      "application/vnd.jupyter.widget-view+json": {
       "model_id": "b930c9f7290a468496e5d03172eadf92",
       "version_major": 2,
       "version_minor": 0
      },
      "text/plain": [
       "  0%|          | 0/744 [00:00<?, ?it/s]"
      ]
     },
     "metadata": {},
     "output_type": "display_data"
    },
    {
     "data": {
      "application/vnd.jupyter.widget-view+json": {
       "model_id": "edf5eabbbfb54f8dbebb7ac98edd9be6",
       "version_major": 2,
       "version_minor": 0
      },
      "text/plain": [
       "  0%|          | 0/744 [00:00<?, ?it/s]"
      ]
     },
     "metadata": {},
     "output_type": "display_data"
    },
    {
     "data": {
      "application/vnd.jupyter.widget-view+json": {
       "model_id": "baadf0ca641c4ecf96c691052f925162",
       "version_major": 2,
       "version_minor": 0
      },
      "text/plain": [
       "  0%|          | 0/744 [00:00<?, ?it/s]"
      ]
     },
     "metadata": {},
     "output_type": "display_data"
    },
    {
     "data": {
      "application/vnd.jupyter.widget-view+json": {
       "model_id": "9b63b6667c08410d8a1c58e06a84d5c8",
       "version_major": 2,
       "version_minor": 0
      },
      "text/plain": [
       "  0%|          | 0/744 [00:00<?, ?it/s]"
      ]
     },
     "metadata": {},
     "output_type": "display_data"
    },
    {
     "data": {
      "application/vnd.jupyter.widget-view+json": {
       "model_id": "e1714254ad974e49a12524d0893c3e3e",
       "version_major": 2,
       "version_minor": 0
      },
      "text/plain": [
       "  0%|          | 0/744 [00:00<?, ?it/s]"
      ]
     },
     "metadata": {},
     "output_type": "display_data"
    },
    {
     "data": {
      "application/vnd.jupyter.widget-view+json": {
       "model_id": "a12a98a7f38e475bb01e61714e64655d",
       "version_major": 2,
       "version_minor": 0
      },
      "text/plain": [
       "  0%|          | 0/744 [00:00<?, ?it/s]"
      ]
     },
     "metadata": {},
     "output_type": "display_data"
    },
    {
     "data": {
      "application/vnd.jupyter.widget-view+json": {
       "model_id": "8534a0c460e84bb8876fe0961c4cab94",
       "version_major": 2,
       "version_minor": 0
      },
      "text/plain": [
       "  0%|          | 0/744 [00:00<?, ?it/s]"
      ]
     },
     "metadata": {},
     "output_type": "display_data"
    },
    {
     "data": {
      "application/vnd.jupyter.widget-view+json": {
       "model_id": "619615d89b5d47d5bce732c24b9b0a25",
       "version_major": 2,
       "version_minor": 0
      },
      "text/plain": [
       "  0%|          | 0/744 [00:00<?, ?it/s]"
      ]
     },
     "metadata": {},
     "output_type": "display_data"
    },
    {
     "data": {
      "application/vnd.jupyter.widget-view+json": {
       "model_id": "47a12b4b3f1a4dfc97a8e6daa79314db",
       "version_major": 2,
       "version_minor": 0
      },
      "text/plain": [
       "  0%|          | 0/744 [00:00<?, ?it/s]"
      ]
     },
     "metadata": {},
     "output_type": "display_data"
    },
    {
     "data": {
      "application/vnd.jupyter.widget-view+json": {
       "model_id": "1613bfde62574013a5aff577e1b0ba9d",
       "version_major": 2,
       "version_minor": 0
      },
      "text/plain": [
       "  0%|          | 0/744 [00:00<?, ?it/s]"
      ]
     },
     "metadata": {},
     "output_type": "display_data"
    },
    {
     "data": {
      "application/vnd.jupyter.widget-view+json": {
       "model_id": "5e2e07fce2554b3e84937669f505a0a5",
       "version_major": 2,
       "version_minor": 0
      },
      "text/plain": [
       "  0%|          | 0/744 [00:00<?, ?it/s]"
      ]
     },
     "metadata": {},
     "output_type": "display_data"
    },
    {
     "data": {
      "application/vnd.jupyter.widget-view+json": {
       "model_id": "4f62fd24d46d4aa49c979bf24787b6ee",
       "version_major": 2,
       "version_minor": 0
      },
      "text/plain": [
       "  0%|          | 0/744 [00:00<?, ?it/s]"
      ]
     },
     "metadata": {},
     "output_type": "display_data"
    },
    {
     "data": {
      "application/vnd.jupyter.widget-view+json": {
       "model_id": "349b7a5802f949e6b5a702eb32728dad",
       "version_major": 2,
       "version_minor": 0
      },
      "text/plain": [
       "  0%|          | 0/744 [00:00<?, ?it/s]"
      ]
     },
     "metadata": {},
     "output_type": "display_data"
    },
    {
     "data": {
      "application/vnd.jupyter.widget-view+json": {
       "model_id": "0ff3eb694e764540aebde1c37022db28",
       "version_major": 2,
       "version_minor": 0
      },
      "text/plain": [
       "  0%|          | 0/744 [00:00<?, ?it/s]"
      ]
     },
     "metadata": {},
     "output_type": "display_data"
    },
    {
     "data": {
      "application/vnd.jupyter.widget-view+json": {
       "model_id": "3da9fcb2890a49cbaea4b88f28600f1d",
       "version_major": 2,
       "version_minor": 0
      },
      "text/plain": [
       "  0%|          | 0/744 [00:00<?, ?it/s]"
      ]
     },
     "metadata": {},
     "output_type": "display_data"
    },
    {
     "data": {
      "application/vnd.jupyter.widget-view+json": {
       "model_id": "c2ec7d63fcc54879aa2a0cbfe1320dec",
       "version_major": 2,
       "version_minor": 0
      },
      "text/plain": [
       "  0%|          | 0/744 [00:00<?, ?it/s]"
      ]
     },
     "metadata": {},
     "output_type": "display_data"
    },
    {
     "data": {
      "application/vnd.jupyter.widget-view+json": {
       "model_id": "55f850324d3d48488e8071587af658db",
       "version_major": 2,
       "version_minor": 0
      },
      "text/plain": [
       "  0%|          | 0/744 [00:00<?, ?it/s]"
      ]
     },
     "metadata": {},
     "output_type": "display_data"
    },
    {
     "data": {
      "application/vnd.jupyter.widget-view+json": {
       "model_id": "b05d5bb221e542908b196f3a62187af0",
       "version_major": 2,
       "version_minor": 0
      },
      "text/plain": [
       "  0%|          | 0/744 [00:00<?, ?it/s]"
      ]
     },
     "metadata": {},
     "output_type": "display_data"
    },
    {
     "data": {
      "application/vnd.jupyter.widget-view+json": {
       "model_id": "63a7805b27fa4d18928a78830f8ab2ae",
       "version_major": 2,
       "version_minor": 0
      },
      "text/plain": [
       "  0%|          | 0/744 [00:00<?, ?it/s]"
      ]
     },
     "metadata": {},
     "output_type": "display_data"
    },
    {
     "data": {
      "application/vnd.jupyter.widget-view+json": {
       "model_id": "93407e0c6d4b4232b8c2bcab0744d2a2",
       "version_major": 2,
       "version_minor": 0
      },
      "text/plain": [
       "  0%|          | 0/744 [00:00<?, ?it/s]"
      ]
     },
     "metadata": {},
     "output_type": "display_data"
    },
    {
     "data": {
      "application/vnd.jupyter.widget-view+json": {
       "model_id": "08b86a36f90246d388720ff9333ec096",
       "version_major": 2,
       "version_minor": 0
      },
      "text/plain": [
       "  0%|          | 0/744 [00:00<?, ?it/s]"
      ]
     },
     "metadata": {},
     "output_type": "display_data"
    },
    {
     "data": {
      "application/vnd.jupyter.widget-view+json": {
       "model_id": "064fa23eaa754fcea267bb6515b3651d",
       "version_major": 2,
       "version_minor": 0
      },
      "text/plain": [
       "  0%|          | 0/744 [00:00<?, ?it/s]"
      ]
     },
     "metadata": {},
     "output_type": "display_data"
    },
    {
     "data": {
      "application/vnd.jupyter.widget-view+json": {
       "model_id": "946059f1004a499ca8cce0fe3a035aac",
       "version_major": 2,
       "version_minor": 0
      },
      "text/plain": [
       "  0%|          | 0/744 [00:00<?, ?it/s]"
      ]
     },
     "metadata": {},
     "output_type": "display_data"
    },
    {
     "data": {
      "application/vnd.jupyter.widget-view+json": {
       "model_id": "8b17666d0225445ab2f9f1e4af23a884",
       "version_major": 2,
       "version_minor": 0
      },
      "text/plain": [
       "  0%|          | 0/744 [00:00<?, ?it/s]"
      ]
     },
     "metadata": {},
     "output_type": "display_data"
    },
    {
     "name": "stdout",
     "output_type": "stream",
     "text": [
      "    Skipping VR2FEM_S06 because there is no eye tracking data.\n",
      "    Skipping VR2FEM_S23 because there is no eye tracking data.\n",
      "    Skipping VR2FEM_S34 because there is no eye tracking data.\n",
      "    Skipping VR2FEM_S17 because there is no eye tracking data.\n",
      "    Skipping VR2FEM_S22 because there is no eye tracking data.\n",
      "    Skipping VR2FEM_S27 because there is no eye tracking data.\n",
      "    Skipping VR2FEM_S20 because there is no eye tracking data.\n",
      "    Skipping VR2FEM_S33 because there is no eye tracking data.\n",
      "    Skipping VR2FEM_S26 because there is no eye tracking data.\n",
      "    Skipping VR2FEM_S14 because there is no eye tracking data.\n",
      "    Skipping VR2FEM_S29 because there is no eye tracking data.\n",
      "    Skipping VR2FEM_S32 because there is no eye tracking data.\n",
      "    Skipping VR2FEM_S28 because there is no eye tracking data.\n",
      "    Skipping VR2FEM_S18 because there is no eye tracking data.\n"
     ]
    },
    {
     "data": {
      "application/vnd.jupyter.widget-view+json": {
       "model_id": "9fc6a2256170491a94d46e68698b3607",
       "version_major": 2,
       "version_minor": 0
      },
      "text/plain": [
       "  0%|          | 0/720 [00:00<?, ?it/s]"
      ]
     },
     "metadata": {},
     "output_type": "display_data"
    },
    {
     "data": {
      "application/vnd.jupyter.widget-view+json": {
       "model_id": "447d7a4096184232b72e160effd78790",
       "version_major": 2,
       "version_minor": 0
      },
      "text/plain": [
       "  0%|          | 0/717 [00:00<?, ?it/s]"
      ]
     },
     "metadata": {},
     "output_type": "display_data"
    },
    {
     "data": {
      "application/vnd.jupyter.widget-view+json": {
       "model_id": "bafbaf74c82d455db7b24cf90b7ce6bc",
       "version_major": 2,
       "version_minor": 0
      },
      "text/plain": [
       "  0%|          | 0/720 [00:00<?, ?it/s]"
      ]
     },
     "metadata": {},
     "output_type": "display_data"
    },
    {
     "data": {
      "application/vnd.jupyter.widget-view+json": {
       "model_id": "84ffb076b8054d99abb3f832be9ca208",
       "version_major": 2,
       "version_minor": 0
      },
      "text/plain": [
       "  0%|          | 0/720 [00:00<?, ?it/s]"
      ]
     },
     "metadata": {},
     "output_type": "display_data"
    },
    {
     "data": {
      "application/vnd.jupyter.widget-view+json": {
       "model_id": "2946043d44e040b78f778e209fefbd61",
       "version_major": 2,
       "version_minor": 0
      },
      "text/plain": [
       "  0%|          | 0/717 [00:00<?, ?it/s]"
      ]
     },
     "metadata": {},
     "output_type": "display_data"
    },
    {
     "data": {
      "application/vnd.jupyter.widget-view+json": {
       "model_id": "13508dd0725c4b3e9a8b93a97209ef5b",
       "version_major": 2,
       "version_minor": 0
      },
      "text/plain": [
       "  0%|          | 0/720 [00:00<?, ?it/s]"
      ]
     },
     "metadata": {},
     "output_type": "display_data"
    },
    {
     "data": {
      "application/vnd.jupyter.widget-view+json": {
       "model_id": "571ab0d0a9a54a9b808cc90fef796425",
       "version_major": 2,
       "version_minor": 0
      },
      "text/plain": [
       "  0%|          | 0/720 [00:00<?, ?it/s]"
      ]
     },
     "metadata": {},
     "output_type": "display_data"
    },
    {
     "data": {
      "application/vnd.jupyter.widget-view+json": {
       "model_id": "8e70adcd16b4461e9e1a5eb7da69b773",
       "version_major": 2,
       "version_minor": 0
      },
      "text/plain": [
       "  0%|          | 0/720 [00:00<?, ?it/s]"
      ]
     },
     "metadata": {},
     "output_type": "display_data"
    },
    {
     "data": {
      "application/vnd.jupyter.widget-view+json": {
       "model_id": "9016ea3f542743b68f98167e0fe98e70",
       "version_major": 2,
       "version_minor": 0
      },
      "text/plain": [
       "  0%|          | 0/720 [00:00<?, ?it/s]"
      ]
     },
     "metadata": {},
     "output_type": "display_data"
    },
    {
     "data": {
      "application/vnd.jupyter.widget-view+json": {
       "model_id": "1bfc23a1099e401dbc249a60935ee3cd",
       "version_major": 2,
       "version_minor": 0
      },
      "text/plain": [
       "  0%|          | 0/720 [00:00<?, ?it/s]"
      ]
     },
     "metadata": {},
     "output_type": "display_data"
    },
    {
     "data": {
      "application/vnd.jupyter.widget-view+json": {
       "model_id": "2fcc2e7e7be64989853540528097b693",
       "version_major": 2,
       "version_minor": 0
      },
      "text/plain": [
       "  0%|          | 0/720 [00:00<?, ?it/s]"
      ]
     },
     "metadata": {},
     "output_type": "display_data"
    },
    {
     "data": {
      "application/vnd.jupyter.widget-view+json": {
       "model_id": "75b80f1abfd74d6c9e2b1eca453be886",
       "version_major": 2,
       "version_minor": 0
      },
      "text/plain": [
       "  0%|          | 0/720 [00:00<?, ?it/s]"
      ]
     },
     "metadata": {},
     "output_type": "display_data"
    },
    {
     "data": {
      "application/vnd.jupyter.widget-view+json": {
       "model_id": "d1e738ac18d34b24aba8394187eeb4d6",
       "version_major": 2,
       "version_minor": 0
      },
      "text/plain": [
       "  0%|          | 0/720 [00:00<?, ?it/s]"
      ]
     },
     "metadata": {},
     "output_type": "display_data"
    },
    {
     "data": {
      "application/vnd.jupyter.widget-view+json": {
       "model_id": "806bfad5a594454a9ac7237ae5d5ad7a",
       "version_major": 2,
       "version_minor": 0
      },
      "text/plain": [
       "  0%|          | 0/720 [00:00<?, ?it/s]"
      ]
     },
     "metadata": {},
     "output_type": "display_data"
    },
    {
     "data": {
      "application/vnd.jupyter.widget-view+json": {
       "model_id": "057427119cc3436da9e762478ba74472",
       "version_major": 2,
       "version_minor": 0
      },
      "text/plain": [
       "  0%|          | 0/720 [00:00<?, ?it/s]"
      ]
     },
     "metadata": {},
     "output_type": "display_data"
    },
    {
     "data": {
      "application/vnd.jupyter.widget-view+json": {
       "model_id": "88efc3b10a6641d8b05260dfe8b0aa65",
       "version_major": 2,
       "version_minor": 0
      },
      "text/plain": [
       "  0%|          | 0/720 [00:00<?, ?it/s]"
      ]
     },
     "metadata": {},
     "output_type": "display_data"
    },
    {
     "data": {
      "application/vnd.jupyter.widget-view+json": {
       "model_id": "816c4804199445b68769e7babb15dc86",
       "version_major": 2,
       "version_minor": 0
      },
      "text/plain": [
       "  0%|          | 0/720 [00:00<?, ?it/s]"
      ]
     },
     "metadata": {},
     "output_type": "display_data"
    },
    {
     "name": "stdout",
     "output_type": "stream",
     "text": [
      "WARNING: No data found for trial 487 in VR2FEM_S31. Skipping...\n",
      "#### VR2FEM_S03 ####\n",
      "Top correlation for vertical: 137 at 5.0\n",
      "Top correlation for horizontal: 139 at 7.0\n",
      "    Correcting for lag of 0.05ms for VR2FEM_S03.\n",
      "#### VR2FEM_S31 ####\n",
      "Top correlation for vertical: 139 at 7.0\n",
      "Top correlation for horizontal: 140 at 8.0\n",
      "    Correcting for lag of 0.0625ms for VR2FEM_S31.\n",
      "#### VR2FEM_S10 ####\n",
      "Top correlation for vertical: 139 at 7.0\n",
      "Top correlation for horizontal: 139 at 7.0\n",
      "    Correcting for lag of 0.058333333333333334ms for VR2FEM_S10.\n",
      "#### VR2FEM_S11 ####\n",
      "Top correlation for vertical: 140 at 8.0\n",
      "Top correlation for horizontal: 140 at 8.0\n",
      "    Correcting for lag of 0.06666666666666667ms for VR2FEM_S11.\n",
      "#### VR2FEM_S01 ####\n",
      "Top correlation for vertical: 139 at 7.0\n",
      "Top correlation for horizontal: 139 at 7.0\n",
      "    Correcting for lag of 0.058333333333333334ms for VR2FEM_S01.\n",
      "    VR2FEM_S03: 744 trials\n",
      "#### VR2FEM_S12 ####\n",
      "Top correlation for vertical: 139 at 7.0\n",
      "Top correlation for horizontal: 140 at 8.0\n",
      "    VR2FEM_S31: 743 trials\n",
      "    Correcting for lag of 0.0625ms for VR2FEM_S12.\n",
      "    VR2FEM_S10: 744 trials\n",
      "    VR2FEM_S11: 744 trials\n",
      "#### VR2FEM_S13 ####\n",
      "Top correlation for vertical: 139 at 7.0\n",
      "Top correlation for horizontal: 140 at 8.0\n",
      "    Correcting for lag of 0.0625ms for VR2FEM_S13.\n",
      "#### VR2FEM_S15 ####\n",
      "Top correlation for vertical: 138 at 6.0\n",
      "Top correlation for horizontal: 139 at 7.0\n",
      "#### VR2FEM_S19 ####\n",
      "Top correlation for vertical: 139 at 7.0\n",
      "Top correlation for horizontal: 140 at 8.0\n",
      "    Correcting for lag of 0.05416666666666667ms for VR2FEM_S15.\n",
      "    Correcting for lag of 0.0625ms for VR2FEM_S19.\n",
      "#### VR2FEM_S25 ####\n",
      "Top correlation for vertical: 139 at 7.0\n",
      "Top correlation for horizontal: 139 at 7.0\n",
      "    Correcting for lag of 0.058333333333333334ms for VR2FEM_S25.\n",
      "    VR2FEM_S01: 744 trials\n",
      "#### VR2FEM_S24 ####\n",
      "Top correlation for vertical: 139 at 7.0\n",
      "Top correlation for horizontal: 140 at 8.0\n",
      "    Correcting for lag of 0.0625ms for VR2FEM_S24.\n",
      "#### VR2FEM_S21 ####\n",
      "Top correlation for vertical: 139 at 7.0\n",
      "Top correlation for horizontal: 140 at 8.0\n",
      "    Correcting for lag of 0.0625ms for VR2FEM_S21.\n",
      "#### VR2FEM_S05 ####\n",
      "Top correlation for vertical: 139 at 7.0\n",
      "Top correlation for horizontal: 139 at 7.0\n",
      "#### VR2FEM_S07 ####\n",
      "Top correlation for vertical: 139 at 7.0\n",
      "Top correlation for horizontal: 140 at 8.0\n",
      "    Correcting for lag of 0.058333333333333334ms for VR2FEM_S05.\n",
      "    Correcting for lag of 0.0625ms for VR2FEM_S07.\n",
      "    VR2FEM_S12: 744 trials\n",
      "#### VR2FEM_S08 ####\n",
      "Top correlation for vertical: 139 at 7.0\n",
      "Top correlation for horizontal: 140 at 8.0\n",
      "    Correcting for lag of 0.0625ms for VR2FEM_S08.\n",
      "#### VR2FEM_S02 ####\n",
      "Top correlation for vertical: 138 at 6.0\n",
      "Top correlation for horizontal: 140 at 8.0\n",
      "    Correcting for lag of 0.058333333333333334ms for VR2FEM_S02.\n",
      "#### VR2FEM_S16 ####\n",
      "Top correlation for vertical: 139 at 7.0\n",
      "Top correlation for horizontal: 139 at 7.0\n",
      "    Correcting for lag of 0.058333333333333334ms for VR2FEM_S16.\n",
      "    VR2FEM_S13: 744 trials\n",
      "    VR2FEM_S19: 744 trials\n",
      "    VR2FEM_S15: 744 trials\n",
      "    VR2FEM_S25: 744 trials\n",
      "    VR2FEM_S24: 744 trials\n",
      "    VR2FEM_S21: 744 trials\n",
      "    VR2FEM_S05: 744 trials\n",
      "    VR2FEM_S07: 744 trials\n",
      "    VR2FEM_S08: 744 trials\n",
      "    VR2FEM_S02: 744 trials\n",
      "    VR2FEM_S16: 744 trials\n",
      "\n",
      "N of subjects with valid ET data: 17.\n"
     ]
    }
   ],
   "source": [
    "\n",
    "paths = PATHS()\n",
    "sub_list_str = os.listdir(paths.DATA_SUBJECTS)\n",
    "sub_list_str = sorted(sub_list_str)\n",
    "n_valid_subs = 0\n",
    "\n",
    "pool_obj = Pool()\n",
    "res = pool_obj.map(run_preprocessing, sub_list_str)\n",
    "n_valid_subs = sum(res)\n",
    "print(f\"\\nN of subjects with valid ET data: {n_valid_subs}.\")"
   ]
  }
 ],
 "metadata": {
  "kernelspec": {
   "display_name": "vr2fem",
   "language": "python",
   "name": "python3"
  },
  "language_info": {
   "codemirror_mode": {
    "name": "ipython",
    "version": 3
   },
   "file_extension": ".py",
   "mimetype": "text/x-python",
   "name": "python",
   "nbconvert_exporter": "python",
   "pygments_lexer": "ipython3",
   "version": "3.10.6"
  },
  "orig_nbformat": 4
 },
 "nbformat": 4,
 "nbformat_minor": 2
}

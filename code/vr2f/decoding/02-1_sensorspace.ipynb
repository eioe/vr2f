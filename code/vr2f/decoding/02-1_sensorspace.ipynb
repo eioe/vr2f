{
 "cells": [
  {
   "cell_type": "code",
   "execution_count": 1,
   "metadata": {},
   "outputs": [],
   "source": [
    "import json\n",
    "import os\n",
    "import sys\n",
    "from collections import defaultdict\n",
    "from pathlib import Path\n",
    "\n",
    "import mne\n",
    "import numpy as np\n",
    "from mne.decoding import (\n",
    "    GeneralizingEstimator,\n",
    "    LinearModel,\n",
    "    SlidingEstimator,\n",
    "    cross_val_multiscore,\n",
    "    get_coef,\n",
    ")\n",
    "from sklearn.linear_model import LogisticRegression\n",
    "from sklearn.model_selection import GroupKFold, StratifiedKFold\n",
    "from sklearn.pipeline import make_pipeline\n",
    "from vr2fem_analyses import helpers\n",
    "\n",
    "from vr2f.staticinfo import CONFIG, PATHS"
   ]
  },
  {
   "cell_type": "code",
   "execution_count": 2,
   "metadata": {},
   "outputs": [],
   "source": [
    "def avg_time(data, step=25, times=None):\n",
    "    orig_shape = data.shape\n",
    "    n_fill = step - (orig_shape[-1] % step)\n",
    "    fill_shape = np.asarray(orig_shape)\n",
    "    fill_shape[-1] = n_fill\n",
    "    fill = np.ones(fill_shape) * np.nan\n",
    "    data_f = np.concatenate([data, fill], axis=-1)\n",
    "    data_res = np.nanmean(data_f.reshape(*orig_shape[:2], -1, step), axis=-1)\n",
    "\n",
    "    if times is not None:\n",
    "        f_times = np.r_[times, [np.nan] * n_fill]\n",
    "        n_times = np.nanmean(f_times.reshape(-1, step), axis=-1)\n",
    "        return data_res, n_times\n",
    "    else:\n",
    "        return data_res\n",
    "\n",
    "\n",
    "def batch_trials(epos, batch_size, randomize=True):\n",
    "    n_trials = len(epos)\n",
    "    n_batches = int(n_trials / batch_size)\n",
    "    n_trials = batch_size * n_batches\n",
    "    if randomize:\n",
    "        rnd_seq = np.arange(n_trials)\n",
    "        np.random.shuffle(rnd_seq)\n",
    "        rnd_seq = rnd_seq.reshape(n_batches, batch_size)\n",
    "    else:\n",
    "        rnd_seq = np.arange(n_trials).reshape(n_batches, batch_size)\n",
    "\n",
    "    batches = [epos[b].average() for b in rnd_seq]\n",
    "    return batches\n",
    "\n",
    "\n",
    "def get_data(subID, conditions, groups=[], batch_size=1, smooth_winsize=1, picks=\"eeg\"):\n",
    "    \"\"\"\n",
    "    Get data for decoding.\n",
    "\n",
    "    Parameters\n",
    "    ----------\n",
    "    subID : str\n",
    "        Subject ID.\n",
    "    conditions : list\n",
    "        List of conditions to decode.\n",
    "    groups : list, optional\n",
    "        List of groups to decode, by default []\n",
    "    batch_size : int, optional\n",
    "        Batch size, by default 1\n",
    "    smooth_winsize : int, optional\n",
    "        Smoothing window size, by default 1\n",
    "    picks : list, optional\n",
    "        Channels to pick, by default \"eeg\"\n",
    "\n",
    "    Returns\n",
    "    -------\n",
    "    X : np.ndarray\n",
    "        Data.\n",
    "    y : np.ndarray\n",
    "        Labels.\n",
    "    times_n : np.ndarray\n",
    "        Times.\n",
    "    info : mne.Info\n",
    "        Info.\n",
    "    grouping : np.ndarray\n",
    "        Grouping.\n",
    "\n",
    "    \"\"\"\n",
    "    paths = PATHS()\n",
    "    path_in = Path(paths.DATA_03_AR, \"cleaneddata\")\n",
    "    fname = Path(path_in, f\"{subID}-postAR-epo.fif\")\n",
    "    epos = mne.read_epochs(fname, verbose=False).pick(picks)\n",
    "    times = epos.times\n",
    "    info = epos.info\n",
    "\n",
    "    grouping = []\n",
    "\n",
    "    # Setup data:\n",
    "    if batch_size > 1:\n",
    "        batches = defaultdict(list)\n",
    "\n",
    "        for cond in conditions:\n",
    "            # batches[cond] = []\n",
    "            if len(groups) == 0:\n",
    "                tmp = batch_trials(epos[cond], batch_size)\n",
    "                batches[cond] = [b.data for b in tmp]\n",
    "                grouping = np.concatenate([grouping, np.repeat(0, len(tmp))])\n",
    "            else:\n",
    "                for g_idx, g in enumerate(groups):\n",
    "                    tmp = batch_trials(epos[\"/\".join([cond, g])], batch_size)\n",
    "                    batches[cond].extend([b.data for b in tmp])\n",
    "                    grouping = np.concatenate([grouping, np.repeat(g_idx, len(tmp))])\n",
    "            batches[cond] = np.asarray(batches[cond])\n",
    "\n",
    "        X = np.concatenate([batches[c].data for c in conditions], axis=0)\n",
    "        n_ = {cond: batches[cond].shape[0] for cond in conditions}\n",
    "\n",
    "    else:\n",
    "        if len(groups) > 0:\n",
    "            epos = epos[groups]\n",
    "        X = mne.concatenate_epochs([epos[cond] for cond in conditions])\n",
    "        X = X.get_data()\n",
    "        n_ = {cond: len(epos[cond]) for cond in conditions}\n",
    "        if len(groups) > 0:\n",
    "            for cond in conditions:\n",
    "                g = np.zeros(epos[cond].events.shape[0], dtype=str)\n",
    "                for i, wtf in enumerate(groups):\n",
    "                    ev_ = [epos.event_id[k] for k in epos[cond].event_id.keys() if wtf in k]\n",
    "                    idx = np.where(np.isin(epos[cond].events[:, 2], ev_))\n",
    "                    g[idx] = i\n",
    "                grouping = np.concatenate([grouping, g])\n",
    "        else:\n",
    "            grouping = np.repeat(0, X.shape[0])\n",
    "\n",
    "    if smooth_winsize > 1:\n",
    "        X, times_n = avg_time(X, smooth_winsize, times=times)\n",
    "    else:\n",
    "        times_n = times\n",
    "\n",
    "    y = np.r_[\n",
    "        np.zeros(n_[conditions[0]]),\n",
    "        np.concatenate([(np.ones(n_[conditions[i]]) * i) for i in np.arange(1, len(conditions))]),\n",
    "    ]\n",
    "\n",
    "    return X, y, times_n, info, grouping\n",
    "\n",
    "\n",
    "def decode(\n",
    "    sub_list_str: list,\n",
    "    conditions: list,\n",
    "    groups=[],\n",
    "    scoring: str = \"roc_auc\",\n",
    "    n_rep_sub: int = 100,\n",
    "    picks: list = \"eeg\",\n",
    "    shuffle_labels: bool = False,\n",
    "    batch_size: int = 10,\n",
    "    smooth_winsize: int = 5,\n",
    "    temp_gen: bool = False,\n",
    "    save_single_rep_scores: bool = False,\n",
    "    save_scores: bool = True,\n",
    "    save_patterns: bool = False,\n",
    "):\n",
    "    \"\"\"\n",
    "    Run decoding.\n",
    "\n",
    "    Parameters\n",
    "    ----------\n",
    "    sub_list_str : list\n",
    "        Lsit with subject IDs.\n",
    "    conditions : list\n",
    "        List wit conditions to classify.\n",
    "    groups : str, optional\n",
    "        Grouping for CV, by default []\n",
    "    scoring : str, optional\n",
    "        scoring measure, by default \"roc_auc\"\n",
    "    n_rep_sub : int, optional\n",
    "        Number of repetitions, by default 100\n",
    "    picks : list, optional\n",
    "        Picks, by default \"eeg\"\n",
    "    shuffle_labels : bool, optional\n",
    "        Randomize the labels to generate null distribution, by default False\n",
    "    batch_size : int, optional\n",
    "        Number of samples to average across before classification, by default 10\n",
    "    smooth_winsize : int, optional\n",
    "        Number of timepoints to average across before classification, by default 5\n",
    "    temp_gen : bool, optional\n",
    "        Run temporal generalisation, by default False\n",
    "    save_single_rep_scores : bool, optional\n",
    "        Save results of all repetitions or only their average (default), by default False\n",
    "    save_scores : bool, optional\n",
    "        Save the scores to disc, by default True\n",
    "    save_patterns : bool, optional\n",
    "        Save the decoding patterns to disk, by default False\n",
    "\n",
    "    Returns\n",
    "    -------\n",
    "    array :\n",
    "        Scores per subject\n",
    "    list :\n",
    "        Coefficients per subject.\n",
    "    array :\n",
    "        Array of times of the batches/samples\n",
    "\n",
    "    \"\"\"\n",
    "    paths = PATHS()\n",
    "    config = CONFIG()\n",
    "    conditions_target = [c.split(\"/\")[-1] for c in conditions]\n",
    "    if len(conditions[0].split(\"/\")) > 1:\n",
    "        if len(conditions[0].split(\"/\")) > 2:\n",
    "            raise NotImplementedError(\"Cannot handle more than two cond levels yet.\")\n",
    "        conditions_vc = [c.split(\"/\")[0] for c in conditions]\n",
    "        if len(set(conditions_vc)) > 1:\n",
    "            raise ValueError(\"U r mixing viewing conditions. Uncool.\")\n",
    "        conditions_vc = conditions_vc[0]\n",
    "    else:\n",
    "        conditions_vc = \"\"\n",
    "\n",
    "    contrast_str = \"_vs_\".join(conditions_target)\n",
    "    scoring = scoring  # 'roc_auc' # 'accuracy'\n",
    "    if len(groups) == 0:\n",
    "        cv_folds = 3\n",
    "        cv = StratifiedKFold(n_splits=cv_folds, shuffle=True)\n",
    "    else:\n",
    "        cv_folds = len(np.unique(groups))\n",
    "        cv = GroupKFold(n_splits=cv_folds)\n",
    "\n",
    "    subs_processed = list()\n",
    "    sub_scores = list()\n",
    "    sub_scores_per_rep = list()\n",
    "    sub_coef = list()\n",
    "    times_n = list()\n",
    "\n",
    "    for subID in sub_list_str:\n",
    "        print(f\"### RUNING SUBJECT {subID}\")\n",
    "        subs_processed.append(subID)\n",
    "        all_scores = list()\n",
    "        all_coef = list()\n",
    "        for i in np.arange(n_rep_sub):\n",
    "            X, y, times_n, info, grouping = get_data(\n",
    "                subID,\n",
    "                conditions=conditions,\n",
    "                groups=groups,\n",
    "                batch_size=batch_size,\n",
    "                smooth_winsize=smooth_winsize,\n",
    "                picks=picks,\n",
    "            )\n",
    "\n",
    "            clf = make_pipeline(\n",
    "                mne.decoding.Scaler(info),\n",
    "                mne.decoding.Vectorizer(),\n",
    "                LinearModel(LogisticRegression(solver=\"liblinear\", max_iter=5000, random_state=42, verbose=False)),\n",
    "            )\n",
    "\n",
    "            # TODO: refactor: rename \"se\"\n",
    "            if temp_gen:\n",
    "                gen_str = \"gen_temp\"\n",
    "                se = GeneralizingEstimator(clf, scoring=scoring, n_jobs=config.N_JOBS, verbose=0)\n",
    "            else:\n",
    "                gen_str = \"\"\n",
    "                se = SlidingEstimator(clf, scoring=scoring, n_jobs=config.N_JOBS, verbose=0)\n",
    "\n",
    "            if shuffle_labels:\n",
    "                np.random.shuffle(y)\n",
    "            # for i in np.unique(y):\n",
    "            #     print(f\"Size of class {i}: {np.sum(y == i)}\\n\")\n",
    "            scores = cross_val_multiscore(se, X=X, y=y, cv=cv, groups=grouping)\n",
    "            print(f\"Scores: {scores.shape}\")\n",
    "            scores = np.mean(scores, axis=0)\n",
    "            all_scores.append(scores)\n",
    "            se.fit(X, y)\n",
    "            coef = get_coef(se, \"patterns_\", inverse_transform=True)\n",
    "            all_coef.append(coef)\n",
    "\n",
    "        sub_scores = np.asarray(all_scores).mean(axis=0)\n",
    "        sub_coef = np.asarray(all_coef).mean(axis=0)\n",
    "\n",
    "        # save shizzle:\n",
    "        shuf_labs = \"labels_shuffled\" if shuffle_labels else \"\"\n",
    "\n",
    "        if picks != \"eeg\":\n",
    "            picks_str_folder = \"picks_\" + \"-\".join([str(p) for p in picks])\n",
    "        else:\n",
    "            picks_str_folder = \"\"\n",
    "\n",
    "        path_save = Path(\n",
    "            paths.DATA_04_DECOD_SENSORSPACE,\n",
    "            conditions_vc,\n",
    "            contrast_str,\n",
    "            gen_str,\n",
    "            scoring,\n",
    "            picks_str_folder,\n",
    "            shuf_labs,\n",
    "        )\n",
    "\n",
    "        # save accuracies:\n",
    "        if save_scores:\n",
    "            fpath = Path(path_save, \"scores\")\n",
    "            fpath.mkdir(exist_ok=True, parents=True)\n",
    "            fname = Path(fpath, f\"{subID}-scores_per_sub.npy\")\n",
    "            np.save(fname, sub_scores)\n",
    "            np.save(str(fname)[:-4] + \"__times\" + \".npy\", times_n)\n",
    "            del (fpath, fname)\n",
    "\n",
    "        # save patterns:\n",
    "        if save_patterns:\n",
    "            sub_patterns = sub_coef\n",
    "            fpath = Path(path_save, \"patterns\")\n",
    "            fpath.mkdir(exist_ok=True, parents=True)\n",
    "            fname = Path(fpath, f\"{subID}-patterns_per_sub.npy\")\n",
    "            np.save(fname, sub_patterns)\n",
    "            np.save(str(fname)[:-4] + \"__times\" + \".npy\", times_n)\n",
    "            del (fpath, fname)\n",
    "\n",
    "        # save info:\n",
    "        if save_scores or save_patterns or save_single_rep_scores:\n",
    "            info_dict = {\n",
    "                \"included subs\": subs_processed,\n",
    "                \"n_rep_sub\": n_rep_sub,\n",
    "                \"batch_size\": batch_size,\n",
    "                \"smooth_winsize\": smooth_winsize,\n",
    "                \"cv_folds\": cv_folds,\n",
    "                \"scoring\": scoring,\n",
    "            }\n",
    "            fpath = path_save\n",
    "            fname = Path(fpath, f\"{subID}-info.json\")\n",
    "            with open(fname, \"w+\") as outfile:\n",
    "                json.dump(info_dict, outfile)\n",
    "\n",
    "        # save data from single reps:\n",
    "        if save_single_rep_scores:\n",
    "            if len(sub_scores_per_rep) == 0:\n",
    "                sub_scores_per_rep = np.asarray(all_scores)\n",
    "            else:\n",
    "                sub_scores_per_rep = np.concatenate([sub_scores_per_rep, np.asarray(all_scores)], axis=0)\n",
    "\n",
    "            fpath = Path(path_save, \"single_rep_data\")\n",
    "            fpath.mkdir(exist_ok=True, parents=True)\n",
    "            fname = Path(\n",
    "                fpath,\n",
    "                f\"{subID}-\" f\"reps{n_rep_sub}_\" f\"swin{smooth_winsize}_batchs{batch_size}.npy\",\n",
    "            )\n",
    "            np.save(fname, sub_scores_per_rep)\n",
    "            np.save(str(fname)[:-4] + \"__times\" + \".npy\", times_n)\n",
    "            del (fpath, fname)\n",
    "\n",
    "    return sub_scores, sub_coef, times_n"
   ]
  },
  {
   "cell_type": "code",
   "execution_count": 8,
   "metadata": {},
   "outputs": [
    {
     "ename": "IndexError",
     "evalue": "list index out of range",
     "output_type": "error",
     "traceback": [
      "\u001b[0;31m---------------------------------------------------------------------------\u001b[0m",
      "\u001b[0;31mIndexError\u001b[0m                                Traceback (most recent call last)",
      "Input \u001b[0;32mIn [8]\u001b[0m, in \u001b[0;36m<cell line: 9>\u001b[0;34m()\u001b[0m\n\u001b[1;32m      7\u001b[0m sub_nr \u001b[38;5;241m=\u001b[39m \u001b[38;5;241m2\u001b[39m\n\u001b[1;32m      9\u001b[0m \u001b[38;5;28;01mif\u001b[39;00m sub_nr \u001b[38;5;129;01mis\u001b[39;00m \u001b[38;5;129;01mnot\u001b[39;00m \u001b[38;5;28;01mNone\u001b[39;00m:\n\u001b[0;32m---> 10\u001b[0m     sub_list_str \u001b[38;5;241m=\u001b[39m [\u001b[43msub_list_str\u001b[49m\u001b[43m[\u001b[49m\u001b[43msub_nr\u001b[49m\u001b[43m]\u001b[49m]\n",
      "\u001b[0;31mIndexError\u001b[0m: list index out of range"
     ]
    }
   ],
   "source": [
    "paths = PATHS()\n",
    "path_in = Path(paths.DATA_03_AR, \"cleaneddata\")\n",
    "\n",
    "# load data\n",
    "sub_list_str = [s.split(\"-postAR-epo\")[0] for s in os.listdir(path_in)]\n",
    "\n",
    "sub_nr = 2\n",
    "\n",
    "if sub_nr is not None:\n",
    "    sub_list_str = [sub_list_str[sub_nr]]"
   ]
  },
  {
   "cell_type": "code",
   "execution_count": 107,
   "metadata": {},
   "outputs": [
    {
     "name": "stdout",
     "output_type": "stream",
     "text": [
      "### RUNING SUBJECT VR2FEM_S23\n"
     ]
    },
    {
     "name": "stderr",
     "output_type": "stream",
     "text": [
      "[Parallel(n_jobs=1)]: Using backend SequentialBackend with 1 concurrent workers.\n"
     ]
    },
    {
     "data": {
      "application/vnd.jupyter.widget-view+json": {
       "model_id": "2abfe9d8c1874df68e027e6180cf42fd",
       "version_major": 2,
       "version_minor": 0
      },
      "text/plain": [
       "  0%|          | Fitting SlidingEstimator : 0/33 [00:00<?,       ?it/s]"
      ]
     },
     "metadata": {},
     "output_type": "display_data"
    },
    {
     "name": "stderr",
     "output_type": "stream",
     "text": [
      "[Parallel(n_jobs=-2)]: Using backend LokyBackend with 143 concurrent workers.\n",
      "[Parallel(n_jobs=-2)]: Done   3 out of  33 | elapsed:    0.1s remaining:    0.5s\n",
      "[Parallel(n_jobs=-2)]: Done  10 out of  33 | elapsed:    0.1s remaining:    0.2s\n",
      "[Parallel(n_jobs=-2)]: Done  17 out of  33 | elapsed:    0.2s remaining:    0.2s\n",
      "[Parallel(n_jobs=-2)]: Done  24 out of  33 | elapsed:    0.2s remaining:    0.1s\n",
      "[Parallel(n_jobs=-2)]: Done  31 out of  33 | elapsed:    0.3s remaining:    0.0s\n",
      "[Parallel(n_jobs=-2)]: Done  33 out of  33 | elapsed:    0.3s finished\n",
      "[Parallel(n_jobs=1)]: Done   1 out of   1 | elapsed:    1.0s remaining:    0.0s\n"
     ]
    },
    {
     "data": {
      "application/vnd.jupyter.widget-view+json": {
       "model_id": "f9abd9daa7e54eda9cabbe99e4b46aba",
       "version_major": 2,
       "version_minor": 0
      },
      "text/plain": [
       "  0%|          | Fitting SlidingEstimator : 0/33 [00:00<?,       ?it/s]"
      ]
     },
     "metadata": {},
     "output_type": "display_data"
    },
    {
     "name": "stderr",
     "output_type": "stream",
     "text": [
      "[Parallel(n_jobs=-2)]: Using backend LokyBackend with 143 concurrent workers.\n",
      "[Parallel(n_jobs=-2)]: Done   3 out of  33 | elapsed:    0.5s remaining:    4.8s\n",
      "[Parallel(n_jobs=-2)]: Done  10 out of  33 | elapsed:    0.5s remaining:    1.2s\n",
      "[Parallel(n_jobs=-2)]: Done  17 out of  33 | elapsed:    0.6s remaining:    0.6s\n"
     ]
    },
    {
     "name": "stdout",
     "output_type": "stream",
     "text": [
      "Scores: (2, 33)\n"
     ]
    },
    {
     "name": "stderr",
     "output_type": "stream",
     "text": [
      "[Parallel(n_jobs=-2)]: Done  24 out of  33 | elapsed:    0.7s remaining:    0.3s\n",
      "[Parallel(n_jobs=-2)]: Done  31 out of  33 | elapsed:    0.7s remaining:    0.0s\n",
      "[Parallel(n_jobs=-2)]: Done  33 out of  33 | elapsed:    0.8s finished\n",
      "[Parallel(n_jobs=1)]: Done   2 out of   2 | elapsed:    2.3s remaining:    0.0s\n",
      "[Parallel(n_jobs=1)]: Done   2 out of   2 | elapsed:    2.3s finished\n"
     ]
    },
    {
     "data": {
      "application/vnd.jupyter.widget-view+json": {
       "model_id": "43a18a37bcfc45e5b712a56acc7ecdbc",
       "version_major": 2,
       "version_minor": 0
      },
      "text/plain": [
       "  0%|          | Fitting SlidingEstimator : 0/33 [00:00<?,       ?it/s]"
      ]
     },
     "metadata": {},
     "output_type": "display_data"
    },
    {
     "name": "stderr",
     "output_type": "stream",
     "text": [
      "[Parallel(n_jobs=1)]: Using backend SequentialBackend with 1 concurrent workers.\n"
     ]
    },
    {
     "data": {
      "application/vnd.jupyter.widget-view+json": {
       "model_id": "6eb2eaa73cdd492fa2532ec799a664ae",
       "version_major": 2,
       "version_minor": 0
      },
      "text/plain": [
       "  0%|          | Fitting SlidingEstimator : 0/33 [00:00<?,       ?it/s]"
      ]
     },
     "metadata": {},
     "output_type": "display_data"
    },
    {
     "name": "stderr",
     "output_type": "stream",
     "text": [
      "[Parallel(n_jobs=-2)]: Using backend LokyBackend with 143 concurrent workers.\n",
      "[Parallel(n_jobs=-2)]: Done   3 out of  33 | elapsed:    0.0s remaining:    0.5s\n",
      "[Parallel(n_jobs=-2)]: Done  10 out of  33 | elapsed:    0.1s remaining:    0.3s\n",
      "[Parallel(n_jobs=-2)]: Done  17 out of  33 | elapsed:    0.2s remaining:    0.2s\n",
      "[Parallel(n_jobs=-2)]: Done  24 out of  33 | elapsed:    0.3s remaining:    0.1s\n",
      "[Parallel(n_jobs=-2)]: Done  31 out of  33 | elapsed:    0.3s remaining:    0.0s\n",
      "[Parallel(n_jobs=-2)]: Done  33 out of  33 | elapsed:    0.3s finished\n",
      "[Parallel(n_jobs=1)]: Done   1 out of   1 | elapsed:    0.8s remaining:    0.0s\n"
     ]
    },
    {
     "data": {
      "application/vnd.jupyter.widget-view+json": {
       "model_id": "f211b7920d0045039d04325a30c6aa54",
       "version_major": 2,
       "version_minor": 0
      },
      "text/plain": [
       "  0%|          | Fitting SlidingEstimator : 0/33 [00:00<?,       ?it/s]"
      ]
     },
     "metadata": {},
     "output_type": "display_data"
    },
    {
     "name": "stderr",
     "output_type": "stream",
     "text": [
      "[Parallel(n_jobs=-2)]: Using backend LokyBackend with 143 concurrent workers.\n",
      "[Parallel(n_jobs=-2)]: Done   3 out of  33 | elapsed:    0.1s remaining:    0.6s\n",
      "[Parallel(n_jobs=-2)]: Done  10 out of  33 | elapsed:    0.1s remaining:    0.3s\n"
     ]
    },
    {
     "name": "stdout",
     "output_type": "stream",
     "text": [
      "Scores: (2, 33)\n"
     ]
    },
    {
     "name": "stderr",
     "output_type": "stream",
     "text": [
      "[Parallel(n_jobs=-2)]: Done  17 out of  33 | elapsed:    0.2s remaining:    0.2s\n",
      "[Parallel(n_jobs=-2)]: Done  24 out of  33 | elapsed:    0.3s remaining:    0.1s\n",
      "[Parallel(n_jobs=-2)]: Done  31 out of  33 | elapsed:    0.3s remaining:    0.0s\n",
      "[Parallel(n_jobs=-2)]: Done  33 out of  33 | elapsed:    0.3s finished\n",
      "[Parallel(n_jobs=1)]: Done   2 out of   2 | elapsed:    1.9s remaining:    0.0s\n",
      "[Parallel(n_jobs=1)]: Done   2 out of   2 | elapsed:    1.9s finished\n"
     ]
    },
    {
     "data": {
      "application/vnd.jupyter.widget-view+json": {
       "model_id": "877891bd40af4b8ca366bdb703f90860",
       "version_major": 2,
       "version_minor": 0
      },
      "text/plain": [
       "  0%|          | Fitting SlidingEstimator : 0/33 [00:00<?,       ?it/s]"
      ]
     },
     "metadata": {},
     "output_type": "display_data"
    },
    {
     "name": "stderr",
     "output_type": "stream",
     "text": [
      "[Parallel(n_jobs=1)]: Using backend SequentialBackend with 1 concurrent workers.\n"
     ]
    },
    {
     "data": {
      "application/vnd.jupyter.widget-view+json": {
       "model_id": "c29d77909bae4786b37e59da308c7e4b",
       "version_major": 2,
       "version_minor": 0
      },
      "text/plain": [
       "  0%|          | Fitting SlidingEstimator : 0/33 [00:00<?,       ?it/s]"
      ]
     },
     "metadata": {},
     "output_type": "display_data"
    },
    {
     "name": "stderr",
     "output_type": "stream",
     "text": [
      "[Parallel(n_jobs=-2)]: Using backend LokyBackend with 143 concurrent workers.\n",
      "[Parallel(n_jobs=-2)]: Done   3 out of  33 | elapsed:    0.0s remaining:    0.3s\n",
      "[Parallel(n_jobs=-2)]: Done  10 out of  33 | elapsed:    0.1s remaining:    0.2s\n",
      "[Parallel(n_jobs=-2)]: Done  17 out of  33 | elapsed:    0.1s remaining:    0.1s\n",
      "[Parallel(n_jobs=-2)]: Done  24 out of  33 | elapsed:    0.2s remaining:    0.1s\n",
      "[Parallel(n_jobs=-2)]: Done  31 out of  33 | elapsed:    0.3s remaining:    0.0s\n",
      "[Parallel(n_jobs=-2)]: Done  33 out of  33 | elapsed:    0.3s finished\n",
      "[Parallel(n_jobs=1)]: Done   1 out of   1 | elapsed:    0.9s remaining:    0.0s\n"
     ]
    },
    {
     "data": {
      "application/vnd.jupyter.widget-view+json": {
       "model_id": "773351f1838f411fbf20b1092c2ba3d1",
       "version_major": 2,
       "version_minor": 0
      },
      "text/plain": [
       "  0%|          | Fitting SlidingEstimator : 0/33 [00:00<?,       ?it/s]"
      ]
     },
     "metadata": {},
     "output_type": "display_data"
    },
    {
     "name": "stderr",
     "output_type": "stream",
     "text": [
      "[Parallel(n_jobs=-2)]: Using backend LokyBackend with 143 concurrent workers.\n",
      "[Parallel(n_jobs=-2)]: Done   3 out of  33 | elapsed:    0.0s remaining:    0.5s\n",
      "[Parallel(n_jobs=-2)]: Done  10 out of  33 | elapsed:    0.1s remaining:    0.2s\n",
      "[Parallel(n_jobs=-2)]: Done  17 out of  33 | elapsed:    0.2s remaining:    0.2s\n"
     ]
    },
    {
     "name": "stdout",
     "output_type": "stream",
     "text": [
      "Scores: (2, 33)\n"
     ]
    },
    {
     "name": "stderr",
     "output_type": "stream",
     "text": [
      "[Parallel(n_jobs=-2)]: Done  24 out of  33 | elapsed:    0.2s remaining:    0.1s\n",
      "[Parallel(n_jobs=-2)]: Done  31 out of  33 | elapsed:    0.3s remaining:    0.0s\n",
      "[Parallel(n_jobs=-2)]: Done  33 out of  33 | elapsed:    0.3s finished\n",
      "[Parallel(n_jobs=1)]: Done   2 out of   2 | elapsed:    2.0s remaining:    0.0s\n",
      "[Parallel(n_jobs=1)]: Done   2 out of   2 | elapsed:    2.0s finished\n"
     ]
    },
    {
     "data": {
      "application/vnd.jupyter.widget-view+json": {
       "model_id": "ec26028254994351b66a8c2c728722d1",
       "version_major": 2,
       "version_minor": 0
      },
      "text/plain": [
       "  0%|          | Fitting SlidingEstimator : 0/33 [00:00<?,       ?it/s]"
      ]
     },
     "metadata": {},
     "output_type": "display_data"
    }
   ],
   "source": [
    "for cond in [\"all\", \"mono\", \"stereo\"]:\n",
    "    if cond == \"all\":\n",
    "        vc = \"\"\n",
    "    else:\n",
    "        vc = cond + \"/\"\n",
    "\n",
    "vc = \"\"\n",
    "for subID in sub_list_str:\n",
    "    scores, coefs, times = decode(\n",
    "        [subID],\n",
    "        conditions=[vc + \"angry\", vc + \"happy\"],\n",
    "        groups=[\"mono\", \"stereo\"],\n",
    "        scoring=\"accuracy\",\n",
    "        n_rep_sub=3,\n",
    "        picks=\"eeg\",\n",
    "        shuffle_labels=False,\n",
    "        batch_size=3,\n",
    "        smooth_winsize=20,\n",
    "        temp_gen=False,\n",
    "        save_single_rep_scores=False,\n",
    "        save_scores=False,\n",
    "        save_patterns=False,\n",
    "    )"
   ]
  },
  {
   "cell_type": "code",
   "execution_count": 106,
   "metadata": {},
   "outputs": [
    {
     "data": {
      "text/plain": [
       "[<matplotlib.lines.Line2D at 0x1496da759600>]"
      ]
     },
     "execution_count": 106,
     "metadata": {},
     "output_type": "execute_result"
    },
    {
     "data": {
      "image/png": "[encoded data removed]",
      "text/plain": [
       "<Figure size 640x480 with 1 Axes>"
      ]
     },
     "metadata": {},
     "output_type": "display_data"
    }
   ],
   "source": [
    "import matplotlib.pyplot as plt\n",
    "\n",
    "plt.plot(times, np.array([scores]).T)"
   ]
  },
  {
   "cell_type": "code",
   "execution_count": 108,
   "metadata": {},
   "outputs": [
    {
     "data": {
      "text/plain": [
       "[<matplotlib.lines.Line2D at 0x1496dad1d240>]"
      ]
     },
     "execution_count": 108,
     "metadata": {},
     "output_type": "execute_result"
    },
    {
     "data": {
      "image/png": "[encoded data removed]",
      "text/plain": [
       "<Figure size 640x480 with 1 Axes>"
      ]
     },
     "metadata": {},
     "output_type": "display_data"
    }
   ],
   "source": [
    "plt.plot(times, np.array([scores]).T)"
   ]
  },
  {
   "cell_type": "code",
   "execution_count": null,
   "metadata": {},
   "outputs": [],
   "source": [
    "if __name__ == \"__main__\":\n",
    "    if len(sys.argv) > 1:\n",
    "        helpers.print_msg(\"Running Job Nr. \" + sys.argv[1])\n",
    "        JOB_NR = int(sys.argv[1])\n",
    "    else:\n",
    "        JOB_NR = None\n",
    "    main(JOB_NR)"
   ]
  }
 ],
 "metadata": {
  "kernelspec": {
   "display_name": "vr2fem",
   "language": "python",
   "name": "python3"
  },
  "language_info": {
   "codemirror_mode": {
    "name": "ipython",
    "version": 3
   },
   "file_extension": ".py",
   "mimetype": "text/x-python",
   "name": "python",
   "nbconvert_exporter": "python",
   "pygments_lexer": "ipython3",
   "version": "3.10.6"
  },
  "orig_nbformat": 4,
  "vscode": {
   "interpreter": {
    "hash": "da39480941e751e10e8f1279119127112fe33cee36a45592832fbfc8996875f8"
   }
  }
 },
 "nbformat": 4,
 "nbformat_minor": 2
}
